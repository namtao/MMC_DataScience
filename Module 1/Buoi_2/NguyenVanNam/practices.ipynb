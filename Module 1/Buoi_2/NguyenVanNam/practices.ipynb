{
 "cells": [
  {
   "cell_type": "markdown",
   "metadata": {},
   "source": [
    "# Ex 01"
   ]
  },
  {
   "cell_type": "markdown",
   "metadata": {},
   "source": [
    "## Q1"
   ]
  },
  {
   "cell_type": "code",
   "execution_count": 6,
   "metadata": {},
   "outputs": [
    {
     "name": "stdout",
     "output_type": "stream",
     "text": [
      "500 cm = 196.8503937007874 inchs\n",
      "196.8503937007874 inchs = 16.404199475065617 foot\n"
     ]
    }
   ],
   "source": [
    "x = 500\n",
    "print(f\"{x} cm = {x/2.54} inchs\")\n",
    "print(f\"{x/2.54} inchs = {(x/2.54)/12} foot\")"
   ]
  },
  {
   "cell_type": "markdown",
   "metadata": {},
   "source": [
    "## Q2"
   ]
  },
  {
   "cell_type": "code",
   "execution_count": 38,
   "metadata": {},
   "outputs": [
    {
     "name": "stdout",
     "output_type": "stream",
     "text": [
      "01:00:00\n"
     ]
    }
   ],
   "source": [
    "x= 3600\n",
    "\n",
    "h = int(x/(60*60))\n",
    "m = int((x - (h*60*60))/60)\n",
    "s = x - ((h*60*60)+(m*60))\n",
    "print(f'{h:02d}:{m:02d}:{s:02d}')"
   ]
  },
  {
   "cell_type": "markdown",
   "metadata": {},
   "source": [
    "## Q3"
   ]
  },
  {
   "cell_type": "code",
   "execution_count": 39,
   "metadata": {},
   "outputs": [
    {
     "name": "stdout",
     "output_type": "stream",
     "text": [
      "5\n",
      "1\n"
     ]
    }
   ],
   "source": [
    "lst = [1, 2, 3, 5]\n",
    "\n",
    "print(max(lst))\n",
    "print(min(lst))"
   ]
  },
  {
   "cell_type": "markdown",
   "metadata": {},
   "source": [
    "## Q4"
   ]
  },
  {
   "cell_type": "code",
   "execution_count": 40,
   "metadata": {},
   "outputs": [
    {
     "name": "stdout",
     "output_type": "stream",
     "text": [
      "a < b\n"
     ]
    }
   ],
   "source": [
    "a = 2\n",
    "b = 5\n",
    "if(a - b < 0):\n",
    "    print(\"a < b\")\n",
    "elif (a - b > 0):\n",
    "    print(\"a > b\")"
   ]
  },
  {
   "cell_type": "markdown",
   "metadata": {},
   "source": [
    "## Q5"
   ]
  },
  {
   "cell_type": "code",
   "execution_count": 41,
   "metadata": {},
   "outputs": [
    {
     "data": {
      "text/plain": [
       "False"
      ]
     },
     "execution_count": 41,
     "metadata": {},
     "output_type": "execute_result"
    }
   ],
   "source": [
    "a = 2\n",
    "b = 6\n",
    "\n",
    "a % b ==0"
   ]
  },
  {
   "cell_type": "markdown",
   "metadata": {},
   "source": [
    "## Q6"
   ]
  },
  {
   "cell_type": "code",
   "execution_count": 4,
   "metadata": {},
   "outputs": [
    {
     "name": "stdout",
     "output_type": "stream",
     "text": [
      "5.0\n",
      "Trung bình\n"
     ]
    }
   ],
   "source": [
    "toan = 3\n",
    "ly = 4\n",
    "hoa = 10\n",
    "\n",
    "if ( 0<= toan <= 10 and  0<= ly <= 10 and  0<= hoa <= 10):    \n",
    "    diem = (toan*2 + ly + hoa) / 4\n",
    "    print(diem)\n",
    "    if(diem >= 9.0):\n",
    "        print(\"Xuất sắc\")\n",
    "    elif 8.0 <= diem <9.0:\n",
    "        print(\"Giỏi\")\n",
    "    elif 7.0 <= diem < 8.0:\n",
    "        print(\"Khá\")\n",
    "    elif 6.0 <= diem < 7.0:\n",
    "        print(\"Trung bình khá\")\n",
    "    elif 5.0 <= diem < 6.0:\n",
    "        print(\"Trung bình\")\n",
    "    elif diem < 5:\n",
    "        print(\"Kém\")\n",
    "else:\n",
    "    print(\"Lỗi điểm\")"
   ]
  },
  {
   "cell_type": "markdown",
   "metadata": {},
   "source": [
    "# Ex 02"
   ]
  },
  {
   "cell_type": "markdown",
   "metadata": {},
   "source": [
    "## Q1"
   ]
  },
  {
   "cell_type": "code",
   "execution_count": 7,
   "metadata": {},
   "outputs": [
    {
     "data": {
      "text/plain": [
       "51"
      ]
     },
     "execution_count": 7,
     "metadata": {},
     "output_type": "execute_result"
    }
   ],
   "source": [
    "x =24357643584\n",
    "\n",
    "s = 0\n",
    "s = sum(int(i) for i in str(x))\n",
    "s"
   ]
  },
  {
   "cell_type": "markdown",
   "metadata": {},
   "source": [
    "## Q2"
   ]
  },
  {
   "cell_type": "code",
   "execution_count": 47,
   "metadata": {},
   "outputs": [
    {
     "name": "stdout",
     "output_type": "stream",
     "text": [
      "35 = 5 x 7\n"
     ]
    }
   ],
   "source": [
    "def is_Nguyen_To(n):\n",
    "    if(n ==2 or n == 1): return True\n",
    "    if(n<=0): return False\n",
    "    count = 0\n",
    "    for i in range(1, int(n/2)+1):\n",
    "        if n % i ==0:\n",
    "            count+=1\n",
    "    if(count > 1):\n",
    "        return False\n",
    "    \n",
    "    return True\n",
    "\n",
    "so_tu_nhien = 35\n",
    "so = so_tu_nhien\n",
    "lst = []\n",
    "\n",
    "def tim_thua_so(num):\n",
    "    x = 2\n",
    "    while True:\n",
    "        if(is_Nguyen_To(x)) & (num%x==0):\n",
    "            return x\n",
    "        x+=1\n",
    "\n",
    "while True:\n",
    "    if not is_Nguyen_To((int(so_tu_nhien))):\n",
    "        thua_so = tim_thua_so(so_tu_nhien)\n",
    "        lst.append(str(thua_so))\n",
    "        so_tu_nhien = so_tu_nhien / thua_so\n",
    "    else:\n",
    "        lst.append(str(int(so_tu_nhien)))\n",
    "        break\n",
    "    \n",
    "print(str(so) + \" = \"+ \" x \".join(lst))"
   ]
  },
  {
   "cell_type": "markdown",
   "metadata": {},
   "source": [
    "## Q3"
   ]
  },
  {
   "cell_type": "code",
   "execution_count": 58,
   "metadata": {},
   "outputs": [
    {
     "name": "stdout",
     "output_type": "stream",
     "text": [
      "[1, 2, 3, 5, 7, 11, 13, 17, 19, 23, 29, 31, 37, 41, 43, 47, 53, 59, 61, 67, 71, 73, 79, 83, 89, 97]\n"
     ]
    }
   ],
   "source": [
    "n = 100\n",
    "l = []\n",
    "for i in range(n):\n",
    "    if is_Nguyen_To(i):\n",
    "        l.append(i)\n",
    "        \n",
    "print(l)"
   ]
  },
  {
   "cell_type": "markdown",
   "metadata": {},
   "source": [
    "## Q4"
   ]
  },
  {
   "cell_type": "code",
   "execution_count": 72,
   "metadata": {},
   "outputs": [
    {
     "name": "stdout",
     "output_type": "stream",
     "text": [
      "[1, 2, 3, 5, 7, 11, 13, 17, 19, 23, 29, 31, 37, 41, 43, 47, 53, 59, 61, 67, 71, 73, 79, 83, 89, 97, 101, 103, 107, 109, 113, 127, 131, 137, 139, 149, 151, 157, 163, 167, 173, 179, 181, 191, 193, 197, 199, 211, 223, 227, 229, 233, 239, 241, 251, 257, 263, 269, 271, 277, 281, 283, 293, 307, 311, 313, 317, 331, 337, 347, 349, 353, 359, 367, 373, 379, 383, 389, 397, 401, 409, 419, 421, 431, 433, 439, 443, 449, 457, 461, 463, 467, 479, 487, 491, 499, 503, 509, 521, 523]\n"
     ]
    }
   ],
   "source": [
    "lst = []\n",
    "count = 100\n",
    "i = 1\n",
    "while True:\n",
    "    if len(lst) < count and (is_Nguyen_To(i)):\n",
    "        lst.append(i)\n",
    "        # print(lst)\n",
    "    if(len(lst)>=count):\n",
    "        break\n",
    "    \n",
    "    i+=1\n",
    "        \n",
    "print(lst)"
   ]
  },
  {
   "cell_type": "markdown",
   "metadata": {},
   "source": [
    "## Q5"
   ]
  },
  {
   "cell_type": "code",
   "execution_count": 88,
   "metadata": {},
   "outputs": [
    {
     "name": "stdout",
     "output_type": "stream",
     "text": [
      "UCLN của 5 và 11 là 1\n",
      "BCNN của 5 và 11 là 55\n"
     ]
    }
   ],
   "source": [
    "a = 5\n",
    "b = 11\n",
    "\n",
    "if(a > b):\n",
    "    a , b = b , a\n",
    "\n",
    "# UCLN\n",
    "i = a\n",
    "while i != 0:\n",
    "    if a % i == 0 and b % i ==0:\n",
    "        print(f\"UCLN của {a} và {b} là {i}\")\n",
    "        break\n",
    "    \n",
    "    i-=1\n",
    "    \n",
    "# BCNN\n",
    "j = 1\n",
    "while True:\n",
    "    if (b * j) % a == 0:\n",
    "        print(f\"BCNN của {a} và {b} là {b * j}\")\n",
    "        break\n",
    "    \n",
    "    j+=1\n",
    "        "
   ]
  },
  {
   "cell_type": "markdown",
   "metadata": {},
   "source": [
    "## Q6"
   ]
  },
  {
   "cell_type": "code",
   "execution_count": 108,
   "metadata": {},
   "outputs": [
    {
     "name": "stdout",
     "output_type": "stream",
     "text": [
      "1\n"
     ]
    }
   ],
   "source": [
    "n = 1\n",
    "\n",
    "def fibo(n):\n",
    "    if n == 0 or n == 1:\n",
    "        return n\n",
    "    else: return fibo(n-1) + fibo(n-2)\n",
    "    \n",
    "print(fibo(n))"
   ]
  },
  {
   "cell_type": "markdown",
   "metadata": {},
   "source": [
    "## Q7"
   ]
  },
  {
   "cell_type": "code",
   "execution_count": 118,
   "metadata": {},
   "outputs": [
    {
     "name": "stdout",
     "output_type": "stream",
     "text": [
      "1\n",
      "2\n",
      "3\n",
      "5\n",
      "13\n",
      "89\n",
      "233\n",
      "1597\n"
     ]
    }
   ],
   "source": [
    "n = 2432\n",
    "\n",
    "def is_fibo(n):\n",
    "    i = 1\n",
    "    while True:\n",
    "        if(fibo(i) == n):\n",
    "            return True\n",
    "        elif (fibo(i) < n):\n",
    "            i+=1\n",
    "        else:\n",
    "            return False\n",
    "        \n",
    "    \n",
    "for i in range(n):\n",
    "    if is_Nguyen_To(i) and is_fibo(i):\n",
    "        print(i)\n",
    "        "
   ]
  },
  {
   "cell_type": "markdown",
   "metadata": {},
   "source": [
    "## Q8"
   ]
  },
  {
   "cell_type": "code",
   "execution_count": 125,
   "metadata": {},
   "outputs": [
    {
     "name": "stdout",
     "output_type": "stream",
     "text": [
      "36 = 2 x 2 x 3 x 3\n",
      "Tổng các chữ số 36 là : 9\n"
     ]
    }
   ],
   "source": [
    "def is_Nguyen_To(n):\n",
    "    if(n ==2 or n == 1): return True\n",
    "    if(n<=0): return False\n",
    "    count = 0\n",
    "    for i in range(1, int(n/2)+1):\n",
    "        if n % i ==0:\n",
    "            count+=1\n",
    "    if(count > 1):\n",
    "        return False\n",
    "    \n",
    "    return True\n",
    "\n",
    "so_tu_nhien = 36\n",
    "so = so_tu_nhien\n",
    "lst = []\n",
    "\n",
    "def tim_thua_so(num):\n",
    "    x = 2\n",
    "    while True:\n",
    "        if(is_Nguyen_To(x)) & (num%x==0):\n",
    "            return x\n",
    "        x+=1\n",
    "\n",
    "while True:\n",
    "    if not is_Nguyen_To((int(so_tu_nhien))):\n",
    "        thua_so = tim_thua_so(so_tu_nhien)\n",
    "        lst.append(str(thua_so))\n",
    "        so_tu_nhien = so_tu_nhien / thua_so\n",
    "    else:\n",
    "        lst.append(str(int(so_tu_nhien)))\n",
    "        break\n",
    "    \n",
    "print(str(so) + \" = \"+ \" x \".join(lst))\n",
    "print(f\"Tổng các chữ số {so} là : {sum([int(i) for i in str(so)])}\")"
   ]
  },
  {
   "cell_type": "markdown",
   "metadata": {},
   "source": [
    "## Q9"
   ]
  },
  {
   "cell_type": "code",
   "execution_count": 133,
   "metadata": {},
   "outputs": [
    {
     "name": "stdout",
     "output_type": "stream",
     "text": [
      "1 là số nguyên tố\n",
      "Có 2 ước số\n"
     ]
    }
   ],
   "source": [
    "n = 499\n",
    "lst = []\n",
    "for i in range(1, int(n/2)+1):\n",
    "    if n % i ==0:\n",
    "        # print(i)\n",
    "        lst.append(i)\n",
    "        if(is_Nguyen_To(i)):\n",
    "            print(f\"{i} là số nguyên tố\")\n",
    "lst.append(n)        \n",
    "print(f\"Có {len(lst)} ước số\")"
   ]
  },
  {
   "cell_type": "markdown",
   "metadata": {},
   "source": [
    "## Q10"
   ]
  },
  {
   "cell_type": "code",
   "execution_count": 147,
   "metadata": {},
   "outputs": [
    {
     "name": "stdout",
     "output_type": "stream",
     "text": [
      "Tôi tên là ...\n"
     ]
    }
   ],
   "source": [
    "str =\"tôi     TêN            là             ...\"\n",
    "a = \" \".join(str.strip().split())\n",
    "print(a[0].upper() + a[1:].lower())\n"
   ]
  },
  {
   "cell_type": "markdown",
   "metadata": {},
   "source": [
    "## Q11"
   ]
  },
  {
   "cell_type": "code",
   "execution_count": 153,
   "metadata": {},
   "outputs": [
    {
     "name": "stdout",
     "output_type": "stream",
     "text": [
      "2 chương 6\n"
     ]
    }
   ],
   "source": [
    "str = \"Viết chương trình thực hiện nhập một xây ký tự\"\n",
    "\n",
    "lst_str = str.split()\n",
    "max_len = 0\n",
    "index = 0\n",
    "str_len = \"\"\n",
    "for i, v in enumerate(lst_str):\n",
    "    if(max_len < len(v)):\n",
    "        str_len = v\n",
    "        max_len = len(v)\n",
    "        index = i\n",
    "        \n",
    "print(index + 1, str_len, max_len)"
   ]
  },
  {
   "cell_type": "markdown",
   "metadata": {},
   "source": [
    "# Ex 03"
   ]
  },
  {
   "cell_type": "markdown",
   "metadata": {},
   "source": [
    "## Q1"
   ]
  },
  {
   "cell_type": "code",
   "execution_count": 160,
   "metadata": {},
   "outputs": [
    {
     "name": "stdout",
     "output_type": "stream",
     "text": [
      "# \n",
      "# # \n",
      "# # # \n",
      "# # # # \n",
      "# # # # # \n",
      "# # # # # # \n",
      "# # # # # # # \n",
      "# # # # # # # # \n"
     ]
    }
   ],
   "source": [
    "x = 8\n",
    "\n",
    "for i in range(x):\n",
    "    print(\"# \" * (i+1))"
   ]
  },
  {
   "cell_type": "code",
   "execution_count": 159,
   "metadata": {},
   "outputs": [
    {
     "name": "stdout",
     "output_type": "stream",
     "text": [
      "# # # # # # # # \n",
      "# # # # # # # \n",
      "# # # # # # \n",
      "# # # # # \n",
      "# # # # \n",
      "# # # \n",
      "# # \n",
      "# \n"
     ]
    }
   ],
   "source": [
    "x = 8\n",
    "\n",
    "while x != 0:\n",
    "    print(\"# \" * (x))\n",
    "    x-=1"
   ]
  },
  {
   "cell_type": "code",
   "execution_count": 162,
   "metadata": {},
   "outputs": [
    {
     "name": "stdout",
     "output_type": "stream",
     "text": [
      "# # # # # # # # \n",
      "  # # # # # # # \n",
      "    # # # # # # \n",
      "      # # # # # \n",
      "        # # # # \n",
      "          # # # \n",
      "            # # \n",
      "              # \n"
     ]
    }
   ],
   "source": [
    "x = 8\n",
    "\n",
    "while x != 0:\n",
    "    print(\"  \" * (8-x) + \"# \" * (x))\n",
    "    x-=1"
   ]
  },
  {
   "cell_type": "code",
   "execution_count": 1,
   "metadata": {},
   "outputs": [
    {
     "name": "stdout",
     "output_type": "stream",
     "text": [
      "                # \n",
      "              # # \n",
      "            # # # \n",
      "          # # # # \n",
      "        # # # # # \n",
      "      # # # # # # \n",
      "    # # # # # # # \n",
      "  # # # # # # # # \n"
     ]
    }
   ],
   "source": [
    "x = 8\n",
    "\n",
    "for i in range(x):\n",
    "    print(\"  \" * (8- i)  + \"# \" * (i+1))"
   ]
  },
  {
   "cell_type": "markdown",
   "metadata": {},
   "source": [
    "# Q2"
   ]
  },
  {
   "cell_type": "code",
   "execution_count": 6,
   "metadata": {},
   "outputs": [
    {
     "name": "stdout",
     "output_type": "stream",
     "text": [
      "479001600\n"
     ]
    }
   ],
   "source": [
    "def giai_thua(n):\n",
    "    if(n == 0):\n",
    "        return 1\n",
    "    else:\n",
    "        return (n * giai_thua(n-1))\n",
    "    \n",
    "print(giai_thua(12))"
   ]
  }
 ],
 "metadata": {
  "kernelspec": {
   "display_name": "Python 3",
   "language": "python",
   "name": "python3"
  },
  "language_info": {
   "codemirror_mode": {
    "name": "ipython",
    "version": 3
   },
   "file_extension": ".py",
   "mimetype": "text/x-python",
   "name": "python",
   "nbconvert_exporter": "python",
   "pygments_lexer": "ipython3",
   "version": "3.10.14"
  }
 },
 "nbformat": 4,
 "nbformat_minor": 2
}
