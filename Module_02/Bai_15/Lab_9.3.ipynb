{
  "cells": [
    {
      "cell_type": "markdown",
      "id": "b386e1b1",
      "metadata": {
        "id": "b386e1b1"
      },
      "source": [
        "# Lab: Làm việc với dữ liệu Object trong Pandas"
      ]
    },
    {
      "cell_type": "markdown",
      "id": "571e4f3e",
      "metadata": {
        "id": "571e4f3e"
      },
      "source": [
        "# Đọc dữ liệu từ file"
      ]
    },
    {
      "cell_type": "code",
      "execution_count": null,
      "id": "759a4bcf",
      "metadata": {
        "id": "759a4bcf",
        "outputId": "1cc49bfc-72fc-4e01-93ec-00a73a084784"
      },
      "outputs": [
        {
          "data": {
            "text/html": [
              "<div>\n",
              "<style scoped>\n",
              "    .dataframe tbody tr th:only-of-type {\n",
              "        vertical-align: middle;\n",
              "    }\n",
              "\n",
              "    .dataframe tbody tr th {\n",
              "        vertical-align: top;\n",
              "    }\n",
              "\n",
              "    .dataframe thead th {\n",
              "        text-align: right;\n",
              "    }\n",
              "</style>\n",
              "<table border=\"1\" class=\"dataframe\">\n",
              "  <thead>\n",
              "    <tr style=\"text-align: right;\">\n",
              "      <th></th>\n",
              "      <th>App Name</th>\n",
              "      <th>App Id</th>\n",
              "      <th>Category</th>\n",
              "      <th>Rating</th>\n",
              "      <th>Rating Count</th>\n",
              "      <th>Installs</th>\n",
              "      <th>Minimum Installs</th>\n",
              "      <th>Maximum Installs</th>\n",
              "      <th>Free</th>\n",
              "      <th>Price</th>\n",
              "      <th>...</th>\n",
              "      <th>Developer Website</th>\n",
              "      <th>Developer Email</th>\n",
              "      <th>Released</th>\n",
              "      <th>Last Updated</th>\n",
              "      <th>Content Rating</th>\n",
              "      <th>Privacy Policy</th>\n",
              "      <th>Ad Supported</th>\n",
              "      <th>In App Purchases</th>\n",
              "      <th>Editors Choice</th>\n",
              "      <th>Scraped Time</th>\n",
              "    </tr>\n",
              "  </thead>\n",
              "  <tbody>\n",
              "    <tr>\n",
              "      <th>0</th>\n",
              "      <td>Gakondo</td>\n",
              "      <td>com.ishakwe.gakondo</td>\n",
              "      <td>Adventure</td>\n",
              "      <td>0.0</td>\n",
              "      <td>0.0</td>\n",
              "      <td>10+</td>\n",
              "      <td>10.0</td>\n",
              "      <td>15</td>\n",
              "      <td>True</td>\n",
              "      <td>0.0</td>\n",
              "      <td>...</td>\n",
              "      <td>https://beniyizibyose.tk/#/</td>\n",
              "      <td>jean21101999@gmail.com</td>\n",
              "      <td>Feb 26, 2020</td>\n",
              "      <td>Feb 26, 2020</td>\n",
              "      <td>Everyone</td>\n",
              "      <td>https://beniyizibyose.tk/projects/</td>\n",
              "      <td>False</td>\n",
              "      <td>False</td>\n",
              "      <td>False</td>\n",
              "      <td>2021-06-15 20:19:35</td>\n",
              "    </tr>\n",
              "    <tr>\n",
              "      <th>1</th>\n",
              "      <td>Ampere Battery Info</td>\n",
              "      <td>com.webserveis.batteryinfo</td>\n",
              "      <td>Tools</td>\n",
              "      <td>4.4</td>\n",
              "      <td>64.0</td>\n",
              "      <td>5,000+</td>\n",
              "      <td>5000.0</td>\n",
              "      <td>7662</td>\n",
              "      <td>True</td>\n",
              "      <td>0.0</td>\n",
              "      <td>...</td>\n",
              "      <td>https://webserveis.netlify.app/</td>\n",
              "      <td>webserveis@gmail.com</td>\n",
              "      <td>May 21, 2020</td>\n",
              "      <td>May 06, 2021</td>\n",
              "      <td>Everyone</td>\n",
              "      <td>https://dev4phones.wordpress.com/licencia-de-uso/</td>\n",
              "      <td>True</td>\n",
              "      <td>False</td>\n",
              "      <td>False</td>\n",
              "      <td>2021-06-15 20:19:35</td>\n",
              "    </tr>\n",
              "    <tr>\n",
              "      <th>2</th>\n",
              "      <td>Vibook</td>\n",
              "      <td>com.doantiepvien.crm</td>\n",
              "      <td>Productivity</td>\n",
              "      <td>0.0</td>\n",
              "      <td>0.0</td>\n",
              "      <td>50+</td>\n",
              "      <td>50.0</td>\n",
              "      <td>58</td>\n",
              "      <td>True</td>\n",
              "      <td>0.0</td>\n",
              "      <td>...</td>\n",
              "      <td>NaN</td>\n",
              "      <td>vnacrewit@gmail.com</td>\n",
              "      <td>Aug 9, 2019</td>\n",
              "      <td>Aug 19, 2019</td>\n",
              "      <td>Everyone</td>\n",
              "      <td>https://www.vietnamairlines.com/vn/en/terms-an...</td>\n",
              "      <td>False</td>\n",
              "      <td>False</td>\n",
              "      <td>False</td>\n",
              "      <td>2021-06-15 20:19:35</td>\n",
              "    </tr>\n",
              "    <tr>\n",
              "      <th>3</th>\n",
              "      <td>Smart City Trichy Public Service Vehicles 17UC...</td>\n",
              "      <td>cst.stJoseph.ug17ucs548</td>\n",
              "      <td>Communication</td>\n",
              "      <td>5.0</td>\n",
              "      <td>5.0</td>\n",
              "      <td>10+</td>\n",
              "      <td>10.0</td>\n",
              "      <td>19</td>\n",
              "      <td>True</td>\n",
              "      <td>0.0</td>\n",
              "      <td>...</td>\n",
              "      <td>http://www.climatesmarttech.com/</td>\n",
              "      <td>climatesmarttech2@gmail.com</td>\n",
              "      <td>Sep 10, 2018</td>\n",
              "      <td>Oct 13, 2018</td>\n",
              "      <td>Everyone</td>\n",
              "      <td>NaN</td>\n",
              "      <td>True</td>\n",
              "      <td>False</td>\n",
              "      <td>False</td>\n",
              "      <td>2021-06-15 20:19:35</td>\n",
              "    </tr>\n",
              "    <tr>\n",
              "      <th>4</th>\n",
              "      <td>GROW.me</td>\n",
              "      <td>com.horodyski.grower</td>\n",
              "      <td>Tools</td>\n",
              "      <td>0.0</td>\n",
              "      <td>0.0</td>\n",
              "      <td>100+</td>\n",
              "      <td>100.0</td>\n",
              "      <td>478</td>\n",
              "      <td>True</td>\n",
              "      <td>0.0</td>\n",
              "      <td>...</td>\n",
              "      <td>http://www.horodyski.com.pl</td>\n",
              "      <td>rmilekhorodyski@gmail.com</td>\n",
              "      <td>Feb 21, 2020</td>\n",
              "      <td>Nov 12, 2018</td>\n",
              "      <td>Everyone</td>\n",
              "      <td>http://www.horodyski.com.pl</td>\n",
              "      <td>False</td>\n",
              "      <td>False</td>\n",
              "      <td>False</td>\n",
              "      <td>2021-06-15 20:19:35</td>\n",
              "    </tr>\n",
              "  </tbody>\n",
              "</table>\n",
              "<p>5 rows × 24 columns</p>\n",
              "</div>"
            ],
            "text/plain": [
              "                                            App Name  \\\n",
              "0                                            Gakondo   \n",
              "1                                Ampere Battery Info   \n",
              "2                                             Vibook   \n",
              "3  Smart City Trichy Public Service Vehicles 17UC...   \n",
              "4                                            GROW.me   \n",
              "\n",
              "                       App Id       Category  Rating  Rating Count Installs  \\\n",
              "0         com.ishakwe.gakondo      Adventure     0.0           0.0      10+   \n",
              "1  com.webserveis.batteryinfo          Tools     4.4          64.0   5,000+   \n",
              "2        com.doantiepvien.crm   Productivity     0.0           0.0      50+   \n",
              "3     cst.stJoseph.ug17ucs548  Communication     5.0           5.0      10+   \n",
              "4        com.horodyski.grower          Tools     0.0           0.0     100+   \n",
              "\n",
              "   Minimum Installs  Maximum Installs  Free  Price  ...  \\\n",
              "0              10.0                15  True    0.0  ...   \n",
              "1            5000.0              7662  True    0.0  ...   \n",
              "2              50.0                58  True    0.0  ...   \n",
              "3              10.0                19  True    0.0  ...   \n",
              "4             100.0               478  True    0.0  ...   \n",
              "\n",
              "                  Developer Website              Developer Email  \\\n",
              "0       https://beniyizibyose.tk/#/       jean21101999@gmail.com   \n",
              "1   https://webserveis.netlify.app/         webserveis@gmail.com   \n",
              "2                               NaN          vnacrewit@gmail.com   \n",
              "3  http://www.climatesmarttech.com/  climatesmarttech2@gmail.com   \n",
              "4       http://www.horodyski.com.pl    rmilekhorodyski@gmail.com   \n",
              "\n",
              "       Released  Last Updated Content Rating  \\\n",
              "0  Feb 26, 2020  Feb 26, 2020       Everyone   \n",
              "1  May 21, 2020  May 06, 2021       Everyone   \n",
              "2   Aug 9, 2019  Aug 19, 2019       Everyone   \n",
              "3  Sep 10, 2018  Oct 13, 2018       Everyone   \n",
              "4  Feb 21, 2020  Nov 12, 2018       Everyone   \n",
              "\n",
              "                                      Privacy Policy Ad Supported  \\\n",
              "0                 https://beniyizibyose.tk/projects/        False   \n",
              "1  https://dev4phones.wordpress.com/licencia-de-uso/         True   \n",
              "2  https://www.vietnamairlines.com/vn/en/terms-an...        False   \n",
              "3                                                NaN         True   \n",
              "4                        http://www.horodyski.com.pl        False   \n",
              "\n",
              "  In App Purchases Editors Choice         Scraped Time  \n",
              "0            False          False  2021-06-15 20:19:35  \n",
              "1            False          False  2021-06-15 20:19:35  \n",
              "2            False          False  2021-06-15 20:19:35  \n",
              "3            False          False  2021-06-15 20:19:35  \n",
              "4            False          False  2021-06-15 20:19:35  \n",
              "\n",
              "[5 rows x 24 columns]"
            ]
          },
          "execution_count": 1,
          "metadata": {},
          "output_type": "execute_result"
        }
      ],
      "source": [
        "import pandas as pd\n",
        "df_google_playstore = pd.read_csv('Google_Playstore.csv')\n",
        "df_google_playstore.head()"
      ]
    },
    {
      "cell_type": "code",
      "execution_count": null,
      "id": "2361d808",
      "metadata": {
        "id": "2361d808",
        "outputId": "c3045122-6c66-4d97-9533-2461033b2209"
      },
      "outputs": [
        {
          "data": {
            "text/plain": [
              "0                jean21101999@gmails.com\n",
              "1                  webserveis@gmails.com\n",
              "2                   vnacrewit@gmails.com\n",
              "3           climatesmarttech2@gmails.com\n",
              "4             rmilekhorodyski@gmails.com\n",
              "                       ...              \n",
              "2312939             ssjjcomhk@gmails.com\n",
              "2312940       3DreamDeveloper@gmails.com\n",
              "2312941    appoworld.official@gmails.com\n",
              "2312942             ruchisono@gmails.com\n",
              "2312943       yyazilimdevelop@gmails.com\n",
              "Name: Developer Email, Length: 2312944, dtype: object"
            ]
          },
          "execution_count": 2,
          "metadata": {},
          "output_type": "execute_result"
        }
      ],
      "source": [
        "# Yêu cầu: thay đổi gmail.com ở Developer Email thành gmails.com\n",
        "df_google_playstore['Developer Email'] = ...\n",
        "df_google_playstore['Developer Email']"
      ]
    },
    {
      "cell_type": "code",
      "execution_count": null,
      "id": "6350f5b3",
      "metadata": {
        "id": "6350f5b3",
        "outputId": "954641df-835e-449e-fb84-34f6db751c0f"
      },
      "outputs": [
        {
          "data": {
            "text/plain": [
              "0           10MB\n",
              "1          2.9MB\n",
              "2          3.7MB\n",
              "3          1.8MB\n",
              "4          6.2MB\n",
              "           ...  \n",
              "2312939     77MB\n",
              "2312940     44MB\n",
              "2312941     29MB\n",
              "2312942     10MB\n",
              "2312943    5.2MB\n",
              "Name: Size, Length: 2312944, dtype: object"
            ]
          },
          "execution_count": 3,
          "metadata": {},
          "output_type": "execute_result"
        }
      ],
      "source": [
        "# Chuyển đổi M trong cột Size thành MB, k trong cột Size thành kB\n",
        "df_google_playstore['Size'] = ...\n",
        "...\n",
        "df_google_playstore['Size']"
      ]
    },
    {
      "cell_type": "code",
      "execution_count": null,
      "id": "c3b61df0",
      "metadata": {
        "id": "c3b61df0",
        "outputId": "aefdf859-ab4a-4e1e-bb21-4e232e42d0e0"
      },
      "outputs": [
        {
          "data": {
            "text/plain": [
              "0                    com\n",
              "1                    com\n",
              "2                    com\n",
              "3                    cst\n",
              "4                    com\n",
              "               ...      \n",
              "2312939              com\n",
              "2312940              com\n",
              "2312941    datastructure\n",
              "2312942            ishan\n",
              "2312943              com\n",
              "Name: App Id, Length: 2312944, dtype: object"
            ]
          },
          "execution_count": 7,
          "metadata": {},
          "output_type": "execute_result"
        }
      ],
      "source": [
        "# Yêu cầu: Lấy các giá trị trước dấu chấm \".\" đầu tiên trong App Id\n",
        "df_google_playstore['App Id']..."
      ]
    },
    {
      "cell_type": "code",
      "execution_count": null,
      "id": "20d57697",
      "metadata": {
        "id": "20d57697",
        "outputId": "c91835bb-d333-495f-d7c2-a18385a3adb7"
      },
      "outputs": [
        {
          "data": {
            "text/plain": [
              "array(['com', 'cst', 'getfreedata', ..., 'prosit', 'metai', 'nahnikali'],\n",
              "      dtype=object)"
            ]
          },
          "execution_count": 8,
          "metadata": {},
          "output_type": "execute_result"
        }
      ],
      "source": [
        "# Yêu cầu: Quan sát các giá trị duy nhất và số lượng của giá trị trước dấu chấm \".\" đầu tiên trong App Id\n",
        "print(df_google_playstore['App Id']...)\n",
        "print(df_google_playstore['App Id']...)"
      ]
    },
    {
      "cell_type": "code",
      "execution_count": null,
      "id": "40785368",
      "metadata": {
        "id": "40785368",
        "outputId": "b28c59b7-27d9-4f29-8847-63f80cced608"
      },
      "outputs": [
        {
          "data": {
            "text/plain": [
              "0          gmails.com\n",
              "1          gmails.com\n",
              "2          gmails.com\n",
              "3          gmails.com\n",
              "4          gmails.com\n",
              "              ...    \n",
              "2312939    gmails.com\n",
              "2312940    gmails.com\n",
              "2312941    gmails.com\n",
              "2312942    gmails.com\n",
              "2312943    gmails.com\n",
              "Name: Email Tail, Length: 2312944, dtype: object"
            ]
          },
          "execution_count": 10,
          "metadata": {},
          "output_type": "execute_result"
        }
      ],
      "source": [
        "# Yêu cầu: Tạo một cột mới chứa đuôi của Email trong Developer Email\n",
        "df_google_playstore['Email Tail'] = ...\n",
        "df_google_playstore['Email Tail']"
      ]
    },
    {
      "cell_type": "code",
      "execution_count": null,
      "id": "241078aa",
      "metadata": {
        "id": "241078aa"
      },
      "outputs": [],
      "source": []
    }
  ],
  "metadata": {
    "kernelspec": {
      "display_name": "Python 3 (ipykernel)",
      "language": "python",
      "name": "python3"
    },
    "language_info": {
      "codemirror_mode": {
        "name": "ipython",
        "version": 3
      },
      "file_extension": ".py",
      "mimetype": "text/x-python",
      "name": "python",
      "nbconvert_exporter": "python",
      "pygments_lexer": "ipython3",
      "version": "3.9.7"
    },
    "colab": {
      "provenance": []
    }
  },
  "nbformat": 4,
  "nbformat_minor": 5
}