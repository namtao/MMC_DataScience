{
  "cells": [
    {
      "cell_type": "markdown",
      "metadata": {
        "id": "-XI1chsfWdEi"
      },
      "source": [
        "# Lab 8.2 Numpy 2D trong Python\n",
        "\n",
        "Thời lượng ước tính cần thiết: **20** phút\n",
        "\n",
        "## Mục tiêu\n",
        "\n",
        "Sau khi hoàn thành lab này, bạn sẽ có thể:\n",
        "\n",
        "-   Vận hành thoải mái với `numpy`\n",
        "-   Thực hiện các phép toán phức tập với with `numpy`\n"
      ]
    },
    {
      "cell_type": "markdown",
      "metadata": {
        "id": "rVrYLLiuWdEs"
      },
      "source": [
        "<h2>Mục lục</h2>\n",
        "<div class=\"alert alert-block alert-info\" style=\"margin-top: 20px\">\n",
        "    <ul>\n",
        "        <li><a href=\"create\">Tạo mảng Numpy 2D</a></li>\n",
        "        <li><a href=\"access\">Truy cập các phần tử khác nhau trong Mảng Numpy</a></li>\n",
        "        <li><a href=\"op\">Các phép toán cơ bản</a></li>\n",
        "    </ul>\n",
        "  \n",
        "</div>\n",
        "\n",
        "<hr>\n"
      ]
    },
    {
      "cell_type": "markdown",
      "metadata": {
        "id": "1NKxrSDlWdEt"
      },
      "source": [
        "<h2 id=\"create\">Tạo mảng Numpy 2D</h2>\n"
      ]
    },
    {
      "cell_type": "code",
      "execution_count": 1,
      "metadata": {
        "id": "tGPWn_EMWdEt"
      },
      "outputs": [],
      "source": [
        "# Import the libraries\n",
        "\n",
        "import numpy as np\n",
        "import matplotlib.pyplot as plt"
      ]
    },
    {
      "cell_type": "markdown",
      "metadata": {
        "id": "Ymmu3A_RWdE1"
      },
      "source": [
        "Hãy xem xét list <code> a</code>, list chứa ba danh sách lồng nhau **có kích thước bằng nhau**."
      ]
    },
    {
      "cell_type": "code",
      "execution_count": 2,
      "metadata": {
        "id": "3WqGJQZdWdE1"
      },
      "outputs": [
        {
          "data": {
            "text/plain": [
              "[[11, 12, 13], [21, 22, 23], [31, 32, 33]]"
            ]
          },
          "execution_count": 2,
          "metadata": {},
          "output_type": "execute_result"
        }
      ],
      "source": [
        "# Create a list\n",
        "\n",
        "a = [[11, 12, 13], [21, 22, 23], [31, 32, 33]]\n",
        "a"
      ]
    },
    {
      "cell_type": "markdown",
      "metadata": {
        "id": "dwIJr94EWdE2"
      },
      "source": [
        "Chúng ta có thể truyền list vào một Mảng Numpy như sau:"
      ]
    },
    {
      "cell_type": "code",
      "execution_count": 3,
      "metadata": {
        "id": "Y6p_rMV7WdE2"
      },
      "outputs": [
        {
          "data": {
            "text/plain": [
              "array([[11, 12, 13],\n",
              "       [21, 22, 23],\n",
              "       [31, 32, 33]])"
            ]
          },
          "execution_count": 3,
          "metadata": {},
          "output_type": "execute_result"
        }
      ],
      "source": [
        "# Convert list to Numpy Array\n",
        "# Every element is the same type\n",
        "\n",
        "A = np.array(a)\n",
        "A"
      ]
    },
    {
      "cell_type": "markdown",
      "metadata": {
        "id": "VCXqAbANWdE-"
      },
      "source": [
        "Chúng ta có thể sử dụng thuộc tính <code> ndim</code> để lấy số lượng trục hoặc chiều được coi là thứ hạng."
      ]
    },
    {
      "cell_type": "code",
      "execution_count": 4,
      "metadata": {
        "id": "oXa7k1VMWdE-"
      },
      "outputs": [
        {
          "data": {
            "text/plain": [
              "2"
            ]
          },
          "execution_count": 4,
          "metadata": {},
          "output_type": "execute_result"
        }
      ],
      "source": [
        "# Show the numpy array dimensions\n",
        "\n",
        "A.ndim"
      ]
    },
    {
      "cell_type": "markdown",
      "metadata": {
        "id": "3q4BVkd2WdE_"
      },
      "source": [
        "Thuộc tính <code> shape</code> trả về tuple tương ứng với kích thước hoặc số lượng của mỗi chiều."
      ]
    },
    {
      "cell_type": "code",
      "execution_count": 5,
      "metadata": {
        "id": "llFbOF8VWdE_"
      },
      "outputs": [
        {
          "data": {
            "text/plain": [
              "(3, 3)"
            ]
          },
          "execution_count": 5,
          "metadata": {},
          "output_type": "execute_result"
        }
      ],
      "source": [
        "# Show the numpy array shape\n",
        "\n",
        "A.shape"
      ]
    },
    {
      "cell_type": "markdown",
      "metadata": {
        "id": "24zaFr91WdFA"
      },
      "source": [
        "Tổng số phần tử trong mảng được cung cấp bởi thuộc tính <code> size</code>."
      ]
    },
    {
      "cell_type": "code",
      "execution_count": 6,
      "metadata": {
        "id": "Y8wyiUzWWdFG"
      },
      "outputs": [
        {
          "data": {
            "text/plain": [
              "9"
            ]
          },
          "execution_count": 6,
          "metadata": {},
          "output_type": "execute_result"
        }
      ],
      "source": [
        "# Show the numpy array size\n",
        "\n",
        "A.size"
      ]
    },
    {
      "cell_type": "markdown",
      "metadata": {
        "id": "5dfeWPEfWdFH"
      },
      "source": [
        "<hr>\n"
      ]
    },
    {
      "cell_type": "markdown",
      "metadata": {
        "id": "nS_GPAqMWdFI"
      },
      "source": [
        "<h2 id=\"access\">Truy cập các phần tử khác nhau của Mảng Numpy</h2>\n"
      ]
    },
    {
      "cell_type": "markdown",
      "metadata": {
        "id": "EQjkeotyWdFI"
      },
      "source": [
        "Chúng ta có thể sử dụng dấu ngoặc vuông để truy cập các phần tử khác nhau của mảng. Sự tương ứng giữa dấu ngoặc vuông với danh sách và biểu diễn hình chữ nhật được thể hiện trong hình sau với mảng 3x3:"
      ]
    },
    {
      "cell_type": "markdown",
      "metadata": {
        "id": "N1ludHn6WdFP"
      },
      "source": [
        "<img src=\"https://cf-courses-data.s3.us.cloud-object-storage.appdomain.cloud/IBMDeveloperSkillsNetwork-PY0101EN-SkillsNetwork/labs/Module%205/images/NumTwoEg.png\" width=\"500\" />\n"
      ]
    },
    {
      "cell_type": "markdown",
      "metadata": {
        "id": "91gZpm9xWdFQ"
      },
      "source": [
        "Chúng ta có thể truy cập vào cột thứ 2 hàng thứ 3 như trong hình sau:"
      ]
    },
    {
      "cell_type": "markdown",
      "metadata": {
        "id": "-K4Jr2gZWdFQ"
      },
      "source": [
        "<img src=\"https://cf-courses-data.s3.us.cloud-object-storage.appdomain.cloud/IBMDeveloperSkillsNetwork-PY0101EN-SkillsNetwork/labs/Module%205/images/NumTwoFT.png\" width=\"400\" />\n"
      ]
    },
    {
      "cell_type": "markdown",
      "metadata": {
        "id": "EMr4XVZeWdFQ"
      },
      "source": [
        "Chúng ta chỉ cần sử dụng dấu ngoặc vuông và các chỉ số tương ứng với phần tử mà chúng ta muốn:"
      ]
    },
    {
      "cell_type": "code",
      "execution_count": 7,
      "metadata": {
        "id": "Q8Ac6r-aWdFR"
      },
      "outputs": [
        {
          "data": {
            "text/plain": [
              "23"
            ]
          },
          "execution_count": 7,
          "metadata": {},
          "output_type": "execute_result"
        }
      ],
      "source": [
        "# Access the element on the second row and third column\n",
        "\n",
        "A[1, 2]"
      ]
    },
    {
      "cell_type": "markdown",
      "metadata": {
        "id": "bJmPBXUhWdFZ"
      },
      "source": [
        "Chúng ta cũng có thể sử dụng ký hiệu sau để lấy các phần tử:"
      ]
    },
    {
      "cell_type": "code",
      "execution_count": 8,
      "metadata": {
        "id": "GHiFB19TWdFZ"
      },
      "outputs": [
        {
          "data": {
            "text/plain": [
              "23"
            ]
          },
          "execution_count": 8,
          "metadata": {},
          "output_type": "execute_result"
        }
      ],
      "source": [
        "# Access the element on the second row and third column\n",
        "\n",
        "A[1][2]"
      ]
    },
    {
      "cell_type": "markdown",
      "metadata": {
        "id": "8xycrmcPWdFc"
      },
      "source": [
        "Hãy xem xét các phần tử được hiển thị trong hình sau:"
      ]
    },
    {
      "cell_type": "markdown",
      "metadata": {
        "id": "iJtPe8PxWdFd"
      },
      "source": [
        "<img src=\"https://cf-courses-data.s3.us.cloud-object-storage.appdomain.cloud/IBMDeveloperSkillsNetwork-PY0101EN-SkillsNetwork/labs/Module%205/images/NumTwoFF.png\" width=\"400\" />\n"
      ]
    },
    {
      "cell_type": "markdown",
      "metadata": {
        "id": "Nsm3CrxpWdFd"
      },
      "source": [
        "Chúng ta có thể truy cập phần tử như sau:"
      ]
    },
    {
      "cell_type": "code",
      "execution_count": 9,
      "metadata": {
        "id": "oExl9EnmWdFe"
      },
      "outputs": [
        {
          "data": {
            "text/plain": [
              "11"
            ]
          },
          "execution_count": 9,
          "metadata": {},
          "output_type": "execute_result"
        }
      ],
      "source": [
        "# Access the element on the first row and first column\n",
        "\n",
        "A[0][0]"
      ]
    },
    {
      "cell_type": "markdown",
      "metadata": {
        "id": "QTaI2xuxWdFe"
      },
      "source": [
        "Chúng ta cũng có thể sử dụng slicing trong các mảng numpy. Hãy xem xét hình sau. Chúng ta muốn lấy hai cột đầu ở hàng đầu tiên."
      ]
    },
    {
      "cell_type": "markdown",
      "metadata": {
        "id": "AaLo2JzxWdFf"
      },
      "source": [
        "<img src=\"https://cf-courses-data.s3.us.cloud-object-storage.appdomain.cloud/IBMDeveloperSkillsNetwork-PY0101EN-SkillsNetwork/labs/Module%205/images/NumTwoFSF.png\" width=\"400\" />\n"
      ]
    },
    {
      "cell_type": "markdown",
      "metadata": {
        "id": "rmEhx7mCWdFf"
      },
      "source": [
        "Điều này có thể được thực hiện với cú pháp sau:"
      ]
    },
    {
      "cell_type": "code",
      "execution_count": 10,
      "metadata": {
        "id": "SBlbpfeQWdFf"
      },
      "outputs": [
        {
          "data": {
            "text/plain": [
              "array([11, 12])"
            ]
          },
          "execution_count": 10,
          "metadata": {},
          "output_type": "execute_result"
        }
      ],
      "source": [
        "# Access the element on the first row and first and second columns\n",
        "\n",
        "A[0][0:2]"
      ]
    },
    {
      "cell_type": "markdown",
      "metadata": {
        "id": "syraMuUaWdFg"
      },
      "source": [
        "Tương tự, chúng ta có thể thu được hai hàng đầu tiên của cột thứ 3 như sau:"
      ]
    },
    {
      "cell_type": "code",
      "execution_count": 11,
      "metadata": {
        "id": "cNEWwMeRWdFh"
      },
      "outputs": [
        {
          "data": {
            "text/plain": [
              "array([13, 23])"
            ]
          },
          "execution_count": 11,
          "metadata": {},
          "output_type": "execute_result"
        }
      ],
      "source": [
        "# Access the element on the first and second rows and third column\n",
        "\n",
        "A[0:2, 2]"
      ]
    },
    {
      "cell_type": "markdown",
      "metadata": {
        "id": "O75ttt2xWdFh"
      },
      "source": [
        "Tương ứng với hình sau:"
      ]
    },
    {
      "cell_type": "markdown",
      "metadata": {
        "id": "WEnkZY15WdFh"
      },
      "source": [
        "<img src=\"https://cf-courses-data.s3.us.cloud-object-storage.appdomain.cloud/IBMDeveloperSkillsNetwork-PY0101EN-SkillsNetwork/labs/Module%205/images/2D_numpy.png\" width=\"550\"><br />\n"
      ]
    },
    {
      "cell_type": "markdown",
      "metadata": {
        "id": "1EwCF7fOWdFi"
      },
      "source": [
        "<h2 id=\"op\">Các phép toán cơ bản</h2>\n"
      ]
    },
    {
      "cell_type": "markdown",
      "metadata": {
        "id": "8gGPLbD5WdFj"
      },
      "source": [
        "Chúng ta cũng có thể cộng mảng. Quá trình này giống hệt với phép cộng ma trận. Phép cộng ma trận của <code> X</code> và <code> Y</code> được hiển thị trong hình sau:"
      ]
    },
    {
      "cell_type": "markdown",
      "metadata": {
        "id": "ob8IDPa5WdFj"
      },
      "source": [
        "<img src=\"https://cf-courses-data.s3.us.cloud-object-storage.appdomain.cloud/IBMDeveloperSkillsNetwork-PY0101EN-SkillsNetwork/labs/Module%205/images/NumTwoAdd.png\" width=\"500\" />\n"
      ]
    },
    {
      "cell_type": "markdown",
      "metadata": {
        "id": "5DEulZsrWdFj"
      },
      "source": [
        "Mảng numpy được cung cấp bởi <code> X</code> và <code> Y</code>."
      ]
    },
    {
      "cell_type": "code",
      "execution_count": 12,
      "metadata": {
        "id": "7dYS9u-gWdFk"
      },
      "outputs": [
        {
          "data": {
            "text/plain": [
              "array([[1, 0],\n",
              "       [0, 1]])"
            ]
          },
          "execution_count": 12,
          "metadata": {},
          "output_type": "execute_result"
        }
      ],
      "source": [
        "# Create a numpy array X\n",
        "\n",
        "X = np.array([[1, 0], [0, 1]])\n",
        "X"
      ]
    },
    {
      "cell_type": "code",
      "execution_count": 13,
      "metadata": {
        "id": "d5K2MXlIWdFl"
      },
      "outputs": [
        {
          "data": {
            "text/plain": [
              "array([[2, 1],\n",
              "       [1, 2]])"
            ]
          },
          "execution_count": 13,
          "metadata": {},
          "output_type": "execute_result"
        }
      ],
      "source": [
        "# Create a numpy array Y\n",
        "\n",
        "Y = np.array([[2, 1], [1, 2]])\n",
        "Y"
      ]
    },
    {
      "cell_type": "markdown",
      "metadata": {
        "id": "Qh634RJbWdFm"
      },
      "source": [
        "Chúng ta có thể cộng các mảng numpy như sau:"
      ]
    },
    {
      "cell_type": "code",
      "execution_count": 14,
      "metadata": {
        "id": "ch7xebc1WdFm"
      },
      "outputs": [
        {
          "data": {
            "text/plain": [
              "array([[3, 1],\n",
              "       [1, 3]])"
            ]
          },
          "execution_count": 14,
          "metadata": {},
          "output_type": "execute_result"
        }
      ],
      "source": [
        "# Add X and Y\n",
        "\n",
        "Z = X + Y\n",
        "Z"
      ]
    },
    {
      "cell_type": "markdown",
      "metadata": {
        "id": "c5TlSQgCWdFn"
      },
      "source": [
        "Nhân một mảng numpy với một tỷ lệ cũng giống như nhân một ma trận với một vô hướng. Nếu nhân ma trận <code> Y</code> với hệ số vô hướng 2, chúng ta chỉ cần nhân mọi phần tử trong ma trận với 2 như trong hình."
      ]
    },
    {
      "cell_type": "markdown",
      "metadata": {
        "id": "qy59asNMWdFn"
      },
      "source": [
        "<img src=\"https://cf-courses-data.s3.us.cloud-object-storage.appdomain.cloud/IBMDeveloperSkillsNetwork-PY0101EN-SkillsNetwork/labs/Module%205/images/NumTwoDb.png\" width=\"500\" />\n"
      ]
    },
    {
      "cell_type": "markdown",
      "metadata": {
        "id": "I5HbQHzWWdFo"
      },
      "source": [
        "Chúng ta có thể thực hiện thao tác tương tự trong numpy như sauz:"
      ]
    },
    {
      "cell_type": "code",
      "execution_count": 15,
      "metadata": {
        "id": "moIVrK-bWdFo"
      },
      "outputs": [
        {
          "data": {
            "text/plain": [
              "array([[2, 1],\n",
              "       [1, 2]])"
            ]
          },
          "execution_count": 15,
          "metadata": {},
          "output_type": "execute_result"
        }
      ],
      "source": [
        "# Create a numpy array Y\n",
        "\n",
        "Y = np.array([[2, 1], [1, 2]])\n",
        "Y"
      ]
    },
    {
      "cell_type": "code",
      "execution_count": 16,
      "metadata": {
        "id": "L6GlfpdtWdFp"
      },
      "outputs": [
        {
          "data": {
            "text/plain": [
              "array([[4, 2],\n",
              "       [2, 4]])"
            ]
          },
          "execution_count": 16,
          "metadata": {},
          "output_type": "execute_result"
        }
      ],
      "source": [
        "# Multiply Y with 2\n",
        "\n",
        "Z = 2 * Y\n",
        "Z"
      ]
    },
    {
      "cell_type": "markdown",
      "metadata": {
        "id": "RlJwJ10jWdFp"
      },
      "source": [
        "Phép nhân hai mảng tương ứng với tích cặp phần tử hoặc phép nhân Hadamard. Xem xét ma trận <code> X</code> và <code> Y</code>. Phép nhân Hadamard tương ứng với việc nhân từng phần tử ở cùng một vị trí, tức là nhân các phần tử chứa trong các ô màu giống nhau với nhau. Kết quả là một ma trận mới có cùng kích thước với ma trận <code> Y</code> hoặc <code> X</code>, như trong hình sau."
      ]
    },
    {
      "cell_type": "markdown",
      "metadata": {
        "id": "JJehog9BWdFq"
      },
      "source": [
        "<img src=\"https://cf-courses-data.s3.us.cloud-object-storage.appdomain.cloud/IBMDeveloperSkillsNetwork-PY0101EN-SkillsNetwork/labs/Module%205/images/NumTwoMul.png\" width=\"500\" />\n"
      ]
    },
    {
      "cell_type": "markdown",
      "metadata": {
        "id": "qc9zl_leWdFq"
      },
      "source": [
        "Chúng ta có thể thực hiện tích cặp phần tử của mảng <code> X</code> và <code> Y</code> như sau:"
      ]
    },
    {
      "cell_type": "code",
      "execution_count": 17,
      "metadata": {
        "id": "9kz5haDYWdFr"
      },
      "outputs": [
        {
          "data": {
            "text/plain": [
              "array([[2, 1],\n",
              "       [1, 2]])"
            ]
          },
          "execution_count": 17,
          "metadata": {},
          "output_type": "execute_result"
        }
      ],
      "source": [
        "# Create a numpy array Y\n",
        "\n",
        "Y = np.array([[2, 1], [1, 2]])\n",
        "Y"
      ]
    },
    {
      "cell_type": "code",
      "execution_count": 18,
      "metadata": {
        "id": "qvuCRPCqWdFr"
      },
      "outputs": [
        {
          "data": {
            "text/plain": [
              "array([[1, 0],\n",
              "       [0, 1]])"
            ]
          },
          "execution_count": 18,
          "metadata": {},
          "output_type": "execute_result"
        }
      ],
      "source": [
        "# Create a numpy array X\n",
        "\n",
        "X = np.array([[1, 0], [0, 1]])\n",
        "X"
      ]
    },
    {
      "cell_type": "code",
      "execution_count": 19,
      "metadata": {
        "id": "LRfT8MAtWdFr"
      },
      "outputs": [
        {
          "data": {
            "text/plain": [
              "array([[2, 0],\n",
              "       [0, 2]])"
            ]
          },
          "execution_count": 19,
          "metadata": {},
          "output_type": "execute_result"
        }
      ],
      "source": [
        "# Multiply X with Y\n",
        "\n",
        "Z = X * Y\n",
        "Z"
      ]
    },
    {
      "cell_type": "markdown",
      "metadata": {
        "id": "PZO5e_xHWdFs"
      },
      "source": [
        "Chúng ta cũng có thể thực hiện phép nhân ma trận với các mảng numpy <code> A</code> và <code> B</code> như sau:"
      ]
    },
    {
      "cell_type": "markdown",
      "metadata": {
        "id": "vqRRLZTuWdFt"
      },
      "source": [
        "Trước tiên, chúng ta xác định ma trận <code> A</code> và <code> B</code>:"
      ]
    },
    {
      "cell_type": "code",
      "execution_count": 20,
      "metadata": {
        "id": "c0cgdjZ8WdFt"
      },
      "outputs": [
        {
          "data": {
            "text/plain": [
              "array([[0, 1, 1],\n",
              "       [1, 0, 1]])"
            ]
          },
          "execution_count": 20,
          "metadata": {},
          "output_type": "execute_result"
        }
      ],
      "source": [
        "# Create a matrix A\n",
        "\n",
        "A = np.array([[0, 1, 1], [1, 0, 1]])\n",
        "A"
      ]
    },
    {
      "cell_type": "code",
      "execution_count": 21,
      "metadata": {
        "id": "ToNHQXJMWdFt"
      },
      "outputs": [
        {
          "data": {
            "text/plain": [
              "array([[ 1,  1],\n",
              "       [ 1,  1],\n",
              "       [-1,  1]])"
            ]
          },
          "execution_count": 21,
          "metadata": {},
          "output_type": "execute_result"
        }
      ],
      "source": [
        "# Create a matrix B\n",
        "\n",
        "B = np.array([[1, 1], [1, 1], [-1, 1]])\n",
        "B"
      ]
    },
    {
      "cell_type": "markdown",
      "metadata": {
        "id": "a1DpbcdZWdFu"
      },
      "source": [
        "Chúng ta sử dụng hàm numpy <code> dot</code> để nhân các mảng với nhau."
      ]
    },
    {
      "cell_type": "code",
      "execution_count": 22,
      "metadata": {
        "id": "GSsBJU5wWdFu"
      },
      "outputs": [
        {
          "data": {
            "text/plain": [
              "array([[0, 2],\n",
              "       [0, 2]])"
            ]
          },
          "execution_count": 22,
          "metadata": {},
          "output_type": "execute_result"
        }
      ],
      "source": [
        "# Calculate the dot product\n",
        "\n",
        "Z = np.dot(A,B)\n",
        "Z"
      ]
    },
    {
      "cell_type": "code",
      "execution_count": 23,
      "metadata": {
        "id": "FpNzWrqCWdFv"
      },
      "outputs": [
        {
          "data": {
            "text/plain": [
              "array([[0.        , 0.90929743],\n",
              "       [0.        , 0.90929743]])"
            ]
          },
          "execution_count": 23,
          "metadata": {},
          "output_type": "execute_result"
        }
      ],
      "source": [
        "# Calculate the sine of Z\n",
        "\n",
        "np.sin(Z)"
      ]
    },
    {
      "cell_type": "markdown",
      "metadata": {
        "id": "GYyVDAaNWdFv"
      },
      "source": [
        "Chúng ta sử dụng thuộc tính numpy <code> T</code> để tính toán ma trận chuyển vị."
      ]
    },
    {
      "cell_type": "code",
      "execution_count": 24,
      "metadata": {
        "id": "An0SxX5vWdFv"
      },
      "outputs": [
        {
          "data": {
            "text/plain": [
              "array([[1, 1],\n",
              "       [2, 2],\n",
              "       [3, 3]])"
            ]
          },
          "execution_count": 24,
          "metadata": {},
          "output_type": "execute_result"
        }
      ],
      "source": [
        "# Create a matrix C\n",
        "\n",
        "C = np.array([[1,1],[2,2],[3,3]])\n",
        "C"
      ]
    },
    {
      "cell_type": "code",
      "execution_count": 25,
      "metadata": {
        "id": "2UwIQGvYWdFx"
      },
      "outputs": [
        {
          "data": {
            "text/plain": [
              "array([[1, 2, 3],\n",
              "       [1, 2, 3]])"
            ]
          },
          "execution_count": 25,
          "metadata": {},
          "output_type": "execute_result"
        }
      ],
      "source": [
        "# Get the transposed of C\n",
        "\n",
        "C.T"
      ]
    },
    {
      "cell_type": "markdown",
      "metadata": {
        "id": "cSX1LZdyWdFx"
      },
      "source": [
        "<h2>Quiz về Mảng Numpy 2D</h2>\n"
      ]
    },
    {
      "cell_type": "markdown",
      "metadata": {
        "id": "S9NABqEmWdFy"
      },
      "source": [
        "Hãy xem xét list <code> a</code> sau, chuyển nó thành mảng Numpy."
      ]
    },
    {
      "cell_type": "code",
      "execution_count": 37,
      "metadata": {
        "id": "OEtUYshbWdFy"
      },
      "outputs": [],
      "source": [
        "a = [[1, 2, 3, 4], [5, 6, 7, 8], [9, 10, 11, 12]]\n",
        "A = np.array(a)"
      ]
    },
    {
      "cell_type": "markdown",
      "metadata": {
        "id": "1MS4kXrtWdFz"
      },
      "source": [
        "Tính kích thước mảng numpy."
      ]
    },
    {
      "cell_type": "code",
      "execution_count": 38,
      "metadata": {
        "id": "4ajATiosWdF0"
      },
      "outputs": [
        {
          "name": "stdout",
          "output_type": "stream",
          "text": [
            "(3, 4)\n"
          ]
        }
      ],
      "source": [
        "print(A.shape)"
      ]
    },
    {
      "cell_type": "markdown",
      "metadata": {
        "id": "Xxg04WLuWdF0"
      },
      "source": [
        "Truy cập phần tử trên hàng đầu, cột đầu tiên và cột thứ hai."
      ]
    },
    {
      "cell_type": "code",
      "execution_count": 39,
      "metadata": {
        "id": "SUsVfyG-WdF1"
      },
      "outputs": [
        {
          "name": "stdout",
          "output_type": "stream",
          "text": [
            "[1 2]\n"
          ]
        }
      ],
      "source": [
        "print(A[0][:2])"
      ]
    },
    {
      "cell_type": "markdown",
      "metadata": {
        "id": "z-eH-JM1WdF2"
      },
      "source": [
        "Thực hiện phép nhân ma trận với mảng numpy <code> A</code> và <code> B</code>."
      ]
    },
    {
      "cell_type": "code",
      "execution_count": 41,
      "metadata": {
        "id": "esfC1yo2WdF2"
      },
      "outputs": [
        {
          "data": {
            "text/plain": [
              "array([[ 1,  4],\n",
              "       [ 5, 12],\n",
              "       [ 9, 20]])"
            ]
          },
          "execution_count": 41,
          "metadata": {},
          "output_type": "execute_result"
        }
      ],
      "source": [
        "B = np.array([[0, 1], [1, 0], [1, 1], [-1, 0]])\n",
        "\n",
        "np.dot(A, B)"
      ]
    },
    {
      "cell_type": "markdown",
      "metadata": {
        "id": "gxl23VlcWdF3"
      },
      "source": [
        "<hr>\n",
        "Nguồn: IBM\n",
        "<hr>"
      ]
    }
  ],
  "metadata": {
    "colab": {
      "collapsed_sections": [
        "UyllUD5VWdF4"
      ],
      "provenance": []
    },
    "kernelspec": {
      "display_name": "Python 3",
      "language": "python",
      "name": "python3"
    },
    "language_info": {
      "codemirror_mode": {
        "name": "ipython",
        "version": 3
      },
      "file_extension": ".py",
      "mimetype": "text/x-python",
      "name": "python",
      "nbconvert_exporter": "python",
      "pygments_lexer": "ipython3",
      "version": "3.10.14"
    }
  },
  "nbformat": 4,
  "nbformat_minor": 0
}
